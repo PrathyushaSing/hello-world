{
  "nbformat": 4,
  "nbformat_minor": 0,
  "metadata": {
    "colab": {
      "name": "8Q_solution.ipynb",
      "provenance": [],
      "authorship_tag": "ABX9TyOppvRD+WZBW/3vyJjyTiDQ",
      "include_colab_link": true
    },
    "kernelspec": {
      "name": "python3",
      "display_name": "Python 3"
    }
  },
  "cells": [
    {
      "cell_type": "markdown",
      "metadata": {
        "id": "view-in-github",
        "colab_type": "text"
      },
      "source": [
        "<a href=\"https://colab.research.google.com/github/PrathyushaSing/hello-world/blob/master/8Q_solution.ipynb\" target=\"_parent\"><img src=\"https://colab.research.google.com/assets/colab-badge.svg\" alt=\"Open In Colab\"/></a>"
      ]
    },
    {
      "cell_type": "code",
      "metadata": {
        "id": "ptrwtFXgFx2B",
        "colab_type": "code",
        "colab": {
          "base_uri": "https://localhost:8080/",
          "height": 34
        },
        "outputId": "7c1fca07-4d85-4e2e-addc-ab2afbd3f6e5"
      },
      "source": [
        "import numpy as np\n",
        "import random \n",
        "import numpy.random as npr\n",
        "import pandas as pd\n",
        " \n",
        "def random_chromosome(size): #making random chromosomes \n",
        "    return [ random.randint(0, size-1) for _ in range(size-1) ]\n",
        "\n",
        "def fitness(chromosome):\n",
        "  horizontal_collisions = sum([chromosome.count(queen)-1 for queen in chromosome])/2\n",
        "  diagonal_collisions=0\n",
        "  \n",
        "  # calculate diagonal clashes\n",
        "  for  i in range(len(chromosome)):\n",
        "     for j in range(len(chromosome)):\n",
        "       if ( i != j):\n",
        "         df_row = abs(i-j)\n",
        "         df_col = abs(chromosome[i] - chromosome[j])\n",
        "         if(df_row == df_col):\n",
        "           diagonal_collisions += 1\n",
        "  return int(maxfitness-(horizontal_collisions+diagonal_collisions))\n",
        "\n",
        "def probability(fitness_data):\n",
        "  max=sum(fitness_data)\n",
        "  prob=[fitscore/max for fitscore in fitness_data]\n",
        "  return prob\n",
        "\n",
        "#applying cross over process between two parents\n",
        "def Crossover(Parent1,Parent2):\n",
        "  cross_point=int(0.5*len(Parent1))\n",
        "  #crossover\n",
        "  child = Parent1[0:cross_point]+Parent2[cross_point:len(Parent2)]\n",
        "  return child\n",
        "\n",
        "#applying mutation process on the chromosome\n",
        "def mutate(chrom):\n",
        "  n=len(chrom)\n",
        "  m= random.randint(0, n - 1)\n",
        "  c=random.randint(0,n-1)\n",
        "  chrom[m]=c\n",
        "  return(chrom)\n",
        "   \n",
        "if __name__ == \"__main__\":\n",
        "  nq = 8\n",
        "  mutation_rate=0.003\n",
        "  maxfitness = (nq*(nq-1))/2  # 8*7/2 = 28\n",
        "  generation=1000\n",
        "  population = [random_chromosome(nq) for _ in range(100)]\n",
        "  \n",
        "  \n",
        "  for loop in range(generation): \n",
        "    fitness_data=[fitness(chromo) for chromo in population]\n",
        "    Prob_data=probability(fitness_data)\n",
        "    pb_df=pd.DataFrame({'Chromosome':population,'fitness':fitness_data,'Probablity':Prob_data})\n",
        "    pb_df=pb_df.sort_values(['fitness'],ascending=False)\n",
        "    pb_df = pb_df.reset_index(drop=True)\n",
        "    Parent1=pb_df[0:1][\"Chromosome\"].values[0]\n",
        "    Parent2=pb_df[1:2][\"Chromosome\"].values[0]\n",
        "    if ( (fitness(Parent1)==maxfitness)) :\n",
        "      print(Parent1)\n",
        "      break\n",
        "    child=Crossover(Parent1,Parent2)   #cross over\n",
        "    child = mutate(child)  #mutation\n",
        "    population.append(child) \n",
        "    #print('Generation=',loop,' ','Chromosome=',child,'','Fitness=',fitness(child))\n",
        "    if(maxfitness==fitness(child)):\n",
        "      print(child)\n",
        "      break\n",
        "  \n",
        "      \n",
        "      \n"
      ],
      "execution_count": 10,
      "outputs": [
        {
          "output_type": "stream",
          "text": [
            "[1, 6, 4, 7, 0, 3, 5]\n"
          ],
          "name": "stdout"
        }
      ]
    }
  ]
}